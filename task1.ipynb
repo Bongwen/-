{
 "cells": [
  {
   "cell_type": "code",
   "execution_count": null,
   "id": "42cbb4a3",
   "metadata": {},
   "outputs": [],
   "source": [
    "import pandas as pd\n",
    "import numpy as np\n",
    "import lightgbm as lgb\n",
    "from sklearn.model_selection import StratifiedKFold\n",
    "from sklearn.metrics import roc_auc_score\n",
    "from lightgbm import early_stopping, log_evaluation\n",
    "from sklearn.preprocessing import LabelEncoder\n",
    "import warnings\n",
    "\n",
    "warnings.filterwarnings('ignore')"
   ]
  },
  {
   "cell_type": "code",
   "execution_count": null,
   "id": "5ce1f2a2",
   "metadata": {},
   "outputs": [],
   "source": [
    "train = pd.read_csv(\"data/train_dataset.csv\")\n",
    "user = pd.read_csv(\"data/user_features.csv\")\n",
    "ad = pd.read_csv(\"data/ad_features.csv\")\n",
    "test = pd.read_csv(\"data/test_dataset.csv\")\n",
    "\n",
    "#合并大数据集\n",
    "train = train.merge(user, on='user_id', how='left')\n",
    "train = train.merge(ad, on='ad_id', how='left')\n",
    "\n",
    "test = test.merge(user, on='user_id', how='left')\n",
    "test = test.merge(ad, on='ad_id', how='left')\n",
    "\n",
    "# 合并train和test\n",
    "all_data = pd.concat([train, test], ignore_index=True)"
   ]
  },
  {
   "cell_type": "code",
   "execution_count": null,
   "id": "1e3230e4",
   "metadata": {},
   "outputs": [],
   "source": [
    "#特征工程\n",
    "def add_features(df):\n",
    "    # 时间\n",
    "    df['exposure_time'] = pd.to_datetime(df['exposure_time'], errors='coerce')\n",
    "    df['hour'] = df['exposure_time'].dt.hour\n",
    "    df['weekday'] = df['exposure_time'].dt.dayofweek\n",
    "    df['is_weekend'] = (df['weekday'] >= 5).astype(int)\n",
    "    df['hour_sin'] = np.sin(2 * np.pi * df['hour'] / 24)#\"周期性\"\n",
    "    df['hour_cos'] = np.cos(2 * np.pi * df['hour'] / 24)\n",
    "\n",
    "    # 交互\n",
    "    cols = ['activity_score', 'product_price', 'advertiser_score', 'historical_ctr']\n",
    "    for i in range(len(cols)):\n",
    "        for j in range(i + 1, len(cols)):\n",
    "            a, b = cols[i], cols[j]\n",
    "            df[f'{a}_{b}_sum'] = df[a] + df[b] \n",
    "            df[f'{a}_{b}_diff'] = df[a] - df[b]\n",
    "            df[f'{a}_{b}_prod'] = df[a] * df[b]\n",
    "    return df\n",
    "\n",
    "all_data = add_features(all_data)"
   ]
  },
  {
   "cell_type": "code",
   "execution_count": null,
   "id": "e6b93f97",
   "metadata": {},
   "outputs": [],
   "source": [
    "# 类别编码\n",
    "cat_cols = ['occupation', 'region', 'device', 'category', 'material_type']\n",
    "for col in cat_cols:\n",
    "    le = LabelEncoder()\n",
    "    all_data[col] = le.fit_transform(all_data[col].astype(str))\n",
    "    all_data[f'{col}_count'] = all_data[col].map(all_data[col].value_counts())"
   ]
  },
  {
   "cell_type": "code",
   "execution_count": null,
   "id": "64b1272e",
   "metadata": {},
   "outputs": [],
   "source": [
    "# 训练/测试\n",
    "train_set = all_data[all_data['is_click'].notnull()].reset_index(drop=True)\n",
    "test_set = all_data[all_data['is_click'].isnull()].reset_index(drop=True)\n",
    "\n",
    "drop_cols = ['user_id', 'ad_id', 'exposure_time', 'is_click']\n",
    "features = [col for col in train_set.columns if col not in drop_cols]\n",
    "len(features)"
   ]
  },
  {
   "cell_type": "code",
   "execution_count": null,
   "id": "bac9ff2c",
   "metadata": {},
   "outputs": [],
   "source": [
    "X = train_set[features]\n",
    "y = train_set['is_click']"
   ]
  },
  {
   "cell_type": "code",
   "execution_count": null,
   "id": "6d7fdb5f",
   "metadata": {},
   "outputs": [],
   "source": [
    "# k折\n",
    "'''\n",
    "k=5\n",
    "k=10\n",
    "k=15\n",
    "'''\n",
    "k = 15\n",
    "skf = StratifiedKFold(n_splits=k, shuffle=True, random_state=42)\n",
    "auc_scores = []\n",
    "models = []\n",
    "\n",
    "for fold, (train_idx, val_idx) in enumerate(skf.split(X, y), 1):\n",
    "    print(f\"\\nFold {fold}\")\n",
    "\n",
    "    X_tr, X_val = X.iloc[train_idx], X.iloc[val_idx]\n",
    "    y_tr, y_val = y.iloc[train_idx], y.iloc[val_idx]\n",
    "\n",
    "    dtrain = lgb.Dataset(X_tr, label=y_tr, categorical_feature=cat_cols)\n",
    "    dval = lgb.Dataset(X_val, label=y_val, categorical_feature=cat_cols)\n",
    "\n",
    "    params = {\n",
    "        'objective': 'binary',\n",
    "        'metric': 'auc',\n",
    "        'boosting_type': 'gbdt',\n",
    "        'learning_rate': 0.01,\n",
    "        'num_leaves': 31,\n",
    "        'max_depth': 7,\n",
    "        'feature_fraction': 0.8,\n",
    "        'bagging_fraction': 0.8,\n",
    "        'seed': 42,\n",
    "        'verbosity': -1,\n",
    "        'bagging_freq': 5,\n",
    "        'lambda_l1': 1.0,\n",
    "        'lambda_l2': 1.0\n",
    "    }\n",
    "\n",
    "    model = lgb.train(\n",
    "        params,\n",
    "        dtrain,\n",
    "        valid_sets=[dval],\n",
    "        num_boost_round=2000,#n\n",
    "        callbacks=[\n",
    "            early_stopping(150),\n",
    "            log_evaluation(100)\n",
    "        ]\n",
    "    )\n",
    "\n",
    "    val_pred = model.predict(X_val, num_iteration=model.best_iteration)\n",
    "    auc = roc_auc_score(y_val, val_pred)\n",
    "    print(f\"Fold {fold} AUC: {auc:.4f}\")\n",
    "\n",
    "    auc_scores.append(auc)\n",
    "    models.append(model)\n",
    "\n",
    "print(f\"\\n平均AUC: {np.mean(auc_scores):.4f}\")"
   ]
  },
  {
   "cell_type": "code",
   "execution_count": null,
   "id": "3c5afc1b",
   "metadata": {},
   "outputs": [],
   "source": [
    "# 预测,k个均值\n",
    "test_preds = np.mean(\n",
    "    [m.predict(test_set[features], num_iteration=m.best_iteration) for m in models],\n",
    "    axis=0\n",
    ")\n",
    "\n",
    "# 导出结果\n",
    "submission = test_set[['user_id', 'ad_id', 'exposure_time']].copy()\n",
    "submission['prediction'] = test_preds\n",
    "submission.to_csv(\"/work/prediction/submission.csv\", index=False)"
   ]
  }
 ],
 "metadata": {
  "hide_input": false,
  "kernelspec": {
   "display_name": "Python 3 (ipykernel)",
   "language": "python",
   "name": "python3"
  },
  "language_info": {
   "codemirror_mode": {
    "name": "ipython",
    "version": 3
   },
   "file_extension": ".py",
   "mimetype": "text/x-python",
   "name": "python",
   "nbconvert_exporter": "python",
   "pygments_lexer": "ipython3",
   "version": "3.9.12"
  }
 },
 "nbformat": 4,
 "nbformat_minor": 5
}
